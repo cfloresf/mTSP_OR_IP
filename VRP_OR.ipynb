{
 "cells": [
  {
   "cell_type": "markdown",
   "id": "5ca9bb13-a4a0-483b-bb2c-79112923babb",
   "metadata": {},
   "source": [
    "# mTSP: Multiple Traveling Salesman Problem"
   ]
  },
  {
   "cell_type": "markdown",
   "id": "fc25aec6-ff3f-4b37-ada8-2d2c53a5cc69",
   "metadata": {},
   "source": [
    "### Descripción del problema"
   ]
  },
  {
   "cell_type": "markdown",
   "id": "85302eef-e208-45e5-8f1e-162ad83b87f7",
   "metadata": {},
   "source": [
    "El Problema de Varios Viajeros (mTSP, por sus siglas en inglés \"Multiple Traveling Salesman Problem\") es una extensión del clásico Problema del Viajante de Comercio (TSP, por sus siglas en inglés), donde en lugar de un solo viajante que debe visitar todas las ciudades, hay varios viajantes (o vehículos) que deben distribuirse las ciudades de forma eficiente, minimizando la distancia total recorrida por todos ellos.\n",
    "\n",
    "### Contexto y Aplicación:\n",
    "Este problema tiene numerosas aplicaciones prácticas en áreas como:\n",
    "\n",
    "Distribución de mercancías: Donde varios vehículos deben entregar productos a diferentes ubicaciones.\n",
    "Logística de flotas de vehículos: Empresas de transporte o entrega que deben planificar rutas eficientes para múltiples vehículos.\n",
    "Servicios de mensajería y paquetería: Donde varios repartidores deben cubrir una serie de direcciones de entrega.\n",
    "Rutas de recolección de residuos: Donde varias rutas de camiones deben ser asignadas para la recolección de basura en una ciudad o área determinada.\n",
    "### Enunciado del Problema:\n",
    "Dado un conjunto de ciudades o puntos de interés (incluido un depósito inicial) y un número \n",
    "𝑚 de viajeros (o vehículos), el objetivo es encontrar un conjunto de rutas (una por cada viajero) que permita que cada ciudad sea visitada exactamente una vez, de manera que:\n",
    "\n",
    "Cada vehículo comienza y termina en el depósito.\n",
    "La distancia total recorrida por todos los vehículos sea mínima.\n",
    "Los vehículos no se cruzan entre sí ni visitan las mismas ciudades.\n",
    "Cada vehículo cubre un conjunto de ciudades, distribuyendo el trabajo de manera eficiente."
   ]
  },
  {
   "cell_type": "code",
   "execution_count": 70,
   "id": "0c6ff05b-34ed-458d-b8b0-a4e66be2cf47",
   "metadata": {},
   "outputs": [],
   "source": [
    "import pulp\n",
    "import pandas as pd\n",
    "import numpy as np\n",
    "import matplotlib.pyplot as plt\n",
    "import seaborn as sns\n",
    "from warnings import filterwarnings\n",
    "filterwarnings('ignore')"
   ]
  },
  {
   "cell_type": "markdown",
   "id": "be36e2b2-2c4b-4055-aead-8537ede1220e",
   "metadata": {},
   "source": [
    "#### Se utilizará un dataset artificial que consta de 13 nodos de destino y un nodo de origen"
   ]
  },
  {
   "cell_type": "code",
   "execution_count": 71,
   "id": "b9520d8f-72ee-4d10-8e80-76de7a5dda7d",
   "metadata": {},
   "outputs": [],
   "source": [
    "data = pd.read_csv('vrp_instance.csv', sep = ';')"
   ]
  },
  {
   "cell_type": "code",
   "execution_count": 72,
   "id": "440550ba-e644-4154-905a-a8ef83cc9f54",
   "metadata": {},
   "outputs": [
    {
     "data": {
      "text/html": [
       "<div>\n",
       "<style scoped>\n",
       "    .dataframe tbody tr th:only-of-type {\n",
       "        vertical-align: middle;\n",
       "    }\n",
       "\n",
       "    .dataframe tbody tr th {\n",
       "        vertical-align: top;\n",
       "    }\n",
       "\n",
       "    .dataframe thead th {\n",
       "        text-align: right;\n",
       "    }\n",
       "</style>\n",
       "<table border=\"1\" class=\"dataframe\">\n",
       "  <thead>\n",
       "    <tr style=\"text-align: right;\">\n",
       "      <th></th>\n",
       "      <th>ciudad</th>\n",
       "      <th>x</th>\n",
       "      <th>y</th>\n",
       "      <th>tipo</th>\n",
       "    </tr>\n",
       "  </thead>\n",
       "  <tbody>\n",
       "    <tr>\n",
       "      <th>0</th>\n",
       "      <td>a</td>\n",
       "      <td>7</td>\n",
       "      <td>15</td>\n",
       "      <td>destino</td>\n",
       "    </tr>\n",
       "    <tr>\n",
       "      <th>1</th>\n",
       "      <td>b</td>\n",
       "      <td>10</td>\n",
       "      <td>1</td>\n",
       "      <td>destino</td>\n",
       "    </tr>\n",
       "    <tr>\n",
       "      <th>2</th>\n",
       "      <td>c</td>\n",
       "      <td>13</td>\n",
       "      <td>10</td>\n",
       "      <td>destino</td>\n",
       "    </tr>\n",
       "    <tr>\n",
       "      <th>3</th>\n",
       "      <td>d</td>\n",
       "      <td>3</td>\n",
       "      <td>7</td>\n",
       "      <td>destino</td>\n",
       "    </tr>\n",
       "    <tr>\n",
       "      <th>4</th>\n",
       "      <td>e</td>\n",
       "      <td>7</td>\n",
       "      <td>1</td>\n",
       "      <td>destino</td>\n",
       "    </tr>\n",
       "    <tr>\n",
       "      <th>5</th>\n",
       "      <td>f</td>\n",
       "      <td>14</td>\n",
       "      <td>3</td>\n",
       "      <td>destino</td>\n",
       "    </tr>\n",
       "    <tr>\n",
       "      <th>6</th>\n",
       "      <td>g</td>\n",
       "      <td>5</td>\n",
       "      <td>4</td>\n",
       "      <td>destino</td>\n",
       "    </tr>\n",
       "    <tr>\n",
       "      <th>7</th>\n",
       "      <td>h</td>\n",
       "      <td>10</td>\n",
       "      <td>11</td>\n",
       "      <td>destino</td>\n",
       "    </tr>\n",
       "    <tr>\n",
       "      <th>8</th>\n",
       "      <td>i</td>\n",
       "      <td>7</td>\n",
       "      <td>11</td>\n",
       "      <td>destino</td>\n",
       "    </tr>\n",
       "    <tr>\n",
       "      <th>9</th>\n",
       "      <td>j</td>\n",
       "      <td>12</td>\n",
       "      <td>1</td>\n",
       "      <td>destino</td>\n",
       "    </tr>\n",
       "    <tr>\n",
       "      <th>10</th>\n",
       "      <td>k</td>\n",
       "      <td>12</td>\n",
       "      <td>8</td>\n",
       "      <td>destino</td>\n",
       "    </tr>\n",
       "    <tr>\n",
       "      <th>11</th>\n",
       "      <td>l</td>\n",
       "      <td>9</td>\n",
       "      <td>6</td>\n",
       "      <td>origen</td>\n",
       "    </tr>\n",
       "    <tr>\n",
       "      <th>12</th>\n",
       "      <td>m</td>\n",
       "      <td>5</td>\n",
       "      <td>7</td>\n",
       "      <td>destino</td>\n",
       "    </tr>\n",
       "    <tr>\n",
       "      <th>13</th>\n",
       "      <td>n</td>\n",
       "      <td>9</td>\n",
       "      <td>13</td>\n",
       "      <td>destino</td>\n",
       "    </tr>\n",
       "  </tbody>\n",
       "</table>\n",
       "</div>"
      ],
      "text/plain": [
       "   ciudad   x   y     tipo\n",
       "0       a   7  15  destino\n",
       "1       b  10   1  destino\n",
       "2      c   13  10  destino\n",
       "3       d   3   7  destino\n",
       "4       e   7   1  destino\n",
       "5       f  14   3  destino\n",
       "6       g   5   4  destino\n",
       "7       h  10  11  destino\n",
       "8       i   7  11  destino\n",
       "9       j  12   1  destino\n",
       "10      k  12   8  destino\n",
       "11      l   9   6   origen\n",
       "12      m   5   7  destino\n",
       "13      n   9  13  destino"
      ]
     },
     "execution_count": 72,
     "metadata": {},
     "output_type": "execute_result"
    }
   ],
   "source": [
    "data"
   ]
  },
  {
   "cell_type": "code",
   "execution_count": 73,
   "id": "d4d5c5c1-5f9e-4427-a4b3-3cd3a58cc3ba",
   "metadata": {},
   "outputs": [],
   "source": [
    "# ciudades a las que se debe visitar\n",
    "cities = list(data[\"ciudad\"])"
   ]
  },
  {
   "cell_type": "code",
   "execution_count": 74,
   "id": "2c3e7159-a511-4f4a-a95f-eea5b5616516",
   "metadata": {},
   "outputs": [],
   "source": [
    "# supongamos que se tienen 3 vehiculos\n",
    "vehicles = [\"V1\",\"V2\",\"V3\"]"
   ]
  },
  {
   "cell_type": "code",
   "execution_count": 75,
   "id": "e6484dc2-59f5-48e4-8cf5-daaa65c86f87",
   "metadata": {},
   "outputs": [
    {
     "data": {
      "image/png": "[encoded data removed]",
      "text/plain": [
       "<Figure size 640x480 with 1 Axes>"
      ]
     },
     "metadata": {},
     "output_type": "display_data"
    }
   ],
   "source": [
    "fig, ax = plt.subplots()\n",
    "plt.title(\"Ubicación de las ciudades y el origen\")\n",
    "sns.scatterplot(data = data, x = 'x', y ='y', hue='tipo')\n",
    "for i in range(len(data)):\n",
    "    ax.text(data[\"x\"][i], data[\"y\"][i], data['ciudad'][i], fontsize=10, ha='center', va = 'bottom')"
   ]
  },
  {
   "cell_type": "markdown",
   "id": "641ea047-04a1-42fd-b3a6-4fd00f83ab13",
   "metadata": {},
   "source": [
    "### Cálculo de la distancia euclidiana"
   ]
  },
  {
   "cell_type": "code",
   "execution_count": 76,
   "id": "3ffd4b8f-2326-4e2a-8365-63c9fd545045",
   "metadata": {},
   "outputs": [],
   "source": [
    "# distancia a la ciudad j desde la ciudad i, notar que Cij == Cji (TSP simétrico)\n",
    "distances = {}\n",
    "for i in cities:\n",
    "    for j in cities:\n",
    "        if i!=j:\n",
    "            x1 = data.loc[data[\"ciudad\"] == i, \"x\"].values[0]\n",
    "            y1 = data.loc[data[\"ciudad\"] == i, \"y\"].values[0]\n",
    "            x2 = data.loc[data[\"ciudad\"] == j, \"x\"].values[0]\n",
    "            y2 = data.loc[data[\"ciudad\"] == j, \"y\"].values[0]\n",
    "            distance = np.sqrt((x2 - x1) ** 2 + (y2 - y1) ** 2) \n",
    "        else:\n",
    "            distance = 0\n",
    "        distances[(i,j)] = distance\n",
    "        distances[(j,i)] = distance"
   ]
  },
  {
   "cell_type": "markdown",
   "id": "74118045-e1b0-4af6-bd87-299cf00fb0f0",
   "metadata": {},
   "source": [
    "### Formulación del problema de optimización"
   ]
  },
  {
   "cell_type": "code",
   "execution_count": 77,
   "id": "d3014997-f0b1-41e0-98e6-b91ceec7dde4",
   "metadata": {},
   "outputs": [],
   "source": [
    "def get_problem(costos, n, origen):\n",
    "    # Definir el modelo\n",
    "    model = pulp.LpProblem(\"mTSP\", pulp.LpMinimize)\n",
    "    \n",
    "    # Variables de decisión: x[i,j,k] = 1 si el vendedor k viaja de i a j\n",
    "    x = pulp.LpVariable.dicts(\"x\", ((k, i, j) for k in vehicles for i in cities for j in cities if i != j), cat='Binary')\n",
    "    \n",
    "    # Variables auxiliares: u[i,k] es el número de visita de la ciudad i por el vendedor k\n",
    "    u = pulp.LpVariable.dicts(\"u\", ((k,i) for k in vehicles for i in cities), lowBound=1, upBound=n, cat='Integer')\n",
    "    \n",
    "    # Función objetivo: minimizar la distancia total recorrida\n",
    "    model += pulp.lpSum(costos[(i, j)] * x[(k, i, j)] for k in vehicles for i in cities for j in cities if i != j)\n",
    "    \n",
    "    # Restricciones\n",
    "    \n",
    "    # 1. No se puede viajar a la misma ciudad\n",
    "    \n",
    "    # 2. Cada vendedor tiene que salir del depósito (ciudad l)\n",
    "    for k in vehicles:\n",
    "        model += pulp.lpSum(x[(k,origen,j)] for j in cities if j!= origen) == 1\n",
    "    \n",
    "    # 3. Cada vendedor tiene que regresar al depósito\n",
    "    for k in vehicles:\n",
    "        model += pulp.lpSum(x[(k,i,origen)] for i in cities if i!=origen) == 1\n",
    "    \n",
    "    # 4. Un vendedor que llega a una ciudad debe salir de ella\n",
    "    for i in cities:\n",
    "        for k in vehicles:\n",
    "            if i != origen:\n",
    "                model += pulp.lpSum(x[(k,j,i)] for j in cities if i!=j) == pulp.lpSum(x[(k,i,j)] for j in cities if i!=j)\n",
    "    \n",
    "    # 5. Cada ciudad debe ser salida por exactamente un vendedor\n",
    "    for i in cities:\n",
    "        if i!= origen:\n",
    "            model += pulp.lpSum(x[(k,i,j)] for j in cities for k in vehicles if i!= j) == 1\n",
    "    \n",
    "    # 6. Cada ciudad debe ser llegada por exactamente un vendedor\n",
    "    for j in cities:\n",
    "        if j != origen:\n",
    "            model += pulp.lpSum(x[(k,i,j)] for i in cities for k in vehicles if i!=j) == 1\n",
    "    \n",
    "    # 7. Eliminación de sub-rutas (restricción MTZ)\n",
    "    for k in vehicles:\n",
    "        for i in cities:\n",
    "            for j in cities:\n",
    "                if i != j:\n",
    "                    if i!= origen:\n",
    "                        if j != origen:\n",
    "                            model += u[(k,i)] - u[(k,j)] + n * x[(k,i,j)] <= n - 1\n",
    "    return model, x"
   ]
  },
  {
   "cell_type": "markdown",
   "id": "c48533cb-c79f-4e7d-a93c-6691eb113674",
   "metadata": {},
   "source": [
    "### Solución del problema"
   ]
  },
  {
   "cell_type": "code",
   "execution_count": 78,
   "id": "bd71feb3-37e6-4698-8b73-880a56360ea4",
   "metadata": {},
   "outputs": [],
   "source": [
    "# como l es el origen, lo remuevo\n",
    "origen = 'l'"
   ]
  },
  {
   "cell_type": "code",
   "execution_count": 79,
   "id": "88f1d997-8682-4fbf-80a0-4a885c51267b",
   "metadata": {},
   "outputs": [],
   "source": [
    "problema, x = get_problem(distances, len(cities), origen) # resto 1 ya que no considera el origen"
   ]
  },
  {
   "cell_type": "code",
   "execution_count": 80,
   "id": "3edc4c42-4e11-4ea9-a137-7215553ccc64",
   "metadata": {},
   "outputs": [
    {
     "data": {
      "text/plain": [
       "1"
      ]
     },
     "execution_count": 80,
     "metadata": {},
     "output_type": "execute_result"
    }
   ],
   "source": [
    "problema.solve(pulp.PULP_CBC_CMD(msg=True))"
   ]
  },
  {
   "cell_type": "markdown",
   "id": "69db0b50-d066-4a8a-b47f-5d7d7b8ac838",
   "metadata": {},
   "source": [
    "#### Distancia Optima"
   ]
  },
  {
   "cell_type": "code",
   "execution_count": 81,
   "id": "1a333cfc-a0a3-4d7c-9573-302e95ac1005",
   "metadata": {},
   "outputs": [
    {
     "name": "stdout",
     "output_type": "stream",
     "text": [
      "Estado: Optimal\n",
      "Distancia óptima a recorrer por el vendedor: 56.698893505319866 unidades de longitud\n"
     ]
    }
   ],
   "source": [
    "# Imprimir resultados\n",
    "print(f\"Estado: {pulp.LpStatus[problema.status]}\")\n",
    "print(f\"Distancia óptima a recorrer por el vendedor: {pulp.value(problema.objective)} unidades de longitud\")"
   ]
  },
  {
   "cell_type": "markdown",
   "id": "37081ab9-9a32-42db-ab04-b4e099cb9831",
   "metadata": {},
   "source": [
    "### Ruta Optima"
   ]
  },
  {
   "cell_type": "code",
   "execution_count": 82,
   "id": "d24a8243-65d2-4efa-842f-c78a90b34b0e",
   "metadata": {},
   "outputs": [
    {
     "name": "stdout",
     "output_type": "stream",
     "text": [
      "Camino optimo: desde la ciudad  b a la ciudad  e y la recorre el vehiculo  V1\n",
      "Camino optimo: desde la ciudad  e a la ciudad  l y la recorre el vehiculo  V1\n",
      "Camino optimo: desde la ciudad  f a la ciudad  j y la recorre el vehiculo  V1\n",
      "Camino optimo: desde la ciudad  j a la ciudad  b y la recorre el vehiculo  V1\n",
      "Camino optimo: desde la ciudad  l a la ciudad  f y la recorre el vehiculo  V1\n",
      "Camino optimo: desde la ciudad  a a la ciudad  i y la recorre el vehiculo  V2\n",
      "Camino optimo: desde la ciudad  c  a la ciudad  h y la recorre el vehiculo  V2\n",
      "Camino optimo: desde la ciudad  h a la ciudad  n y la recorre el vehiculo  V2\n",
      "Camino optimo: desde la ciudad  i a la ciudad  l y la recorre el vehiculo  V2\n",
      "Camino optimo: desde la ciudad  k a la ciudad  c  y la recorre el vehiculo  V2\n",
      "Camino optimo: desde la ciudad  l a la ciudad  k y la recorre el vehiculo  V2\n",
      "Camino optimo: desde la ciudad  n a la ciudad  a y la recorre el vehiculo  V2\n",
      "Camino optimo: desde la ciudad  d a la ciudad  m y la recorre el vehiculo  V3\n",
      "Camino optimo: desde la ciudad  g a la ciudad  d y la recorre el vehiculo  V3\n",
      "Camino optimo: desde la ciudad  l a la ciudad  g y la recorre el vehiculo  V3\n",
      "Camino optimo: desde la ciudad  m a la ciudad  l y la recorre el vehiculo  V3\n"
     ]
    }
   ],
   "source": [
    "for k in vehicles:\n",
    "    for i in cities:\n",
    "        for j in cities:\n",
    "                if i!=j:\n",
    "                    if 0 < x[(k,i, j)].varValue :\n",
    "                        print(f\"Camino optimo: desde la ciudad  {i} a la ciudad  {j} y la recorre el vehiculo  {k}\")"
   ]
  },
  {
   "cell_type": "code",
   "execution_count": 83,
   "id": "3d5d1f10-235f-427a-9b43-16a83ee1a437",
   "metadata": {},
   "outputs": [],
   "source": [
    "ruta_1 = [origen]\n",
    "ruta_2 = [origen]\n",
    "ruta_3 = [origen]\n",
    "def encontrar_siguiente(ruta,vehiculo, inicio):\n",
    "    for j in cities:\n",
    "        if j != origen:\n",
    "            if j!= inicio:\n",
    "                if 0 < x[(vehiculo,inicio, j)].varValue : \n",
    "                    ruta.append(j)\n",
    "    return ruta"
   ]
  },
  {
   "cell_type": "code",
   "execution_count": 84,
   "id": "14e1ec9e-b57a-4577-be71-65751639c765",
   "metadata": {},
   "outputs": [],
   "source": [
    "def encontrar_ruta(ruta, vehiculo):\n",
    "    largo_actual = 0\n",
    "    largo_nuevo = 1\n",
    "    while largo_actual  < largo_nuevo:\n",
    "        largo_actual = len(ruta)\n",
    "        ruta_1 = encontrar_siguiente(ruta,vehiculo, ruta[-1])\n",
    "        largo_nuevo = len(ruta)\n",
    "    ruta.append(ruta[0])\n",
    "    return ruta"
   ]
  },
  {
   "cell_type": "code",
   "execution_count": 85,
   "id": "9406046a-8404-4785-8383-c1f0c6d2ea57",
   "metadata": {},
   "outputs": [],
   "source": [
    "ruta_1 = encontrar_ruta(ruta_1, 'V1')\n",
    "ruta_2 = encontrar_ruta(ruta_2, 'V2')\n",
    "ruta_3 = encontrar_ruta(ruta_3, 'V3')"
   ]
  },
  {
   "cell_type": "code",
   "execution_count": 86,
   "id": "9f51d80c-6e3c-457b-934f-fb0774a2e338",
   "metadata": {},
   "outputs": [
    {
     "data": {
      "text/plain": [
       "(['l', 'f', 'j', 'b', 'e', 'l'],\n",
       " ['l', 'k', 'c ', 'h', 'n', 'a', 'i', 'l'],\n",
       " ['l', 'g', 'd', 'm', 'l'])"
      ]
     },
     "execution_count": 86,
     "metadata": {},
     "output_type": "execute_result"
    }
   ],
   "source": [
    "ruta_1,ruta_2, ruta_3"
   ]
  },
  {
   "cell_type": "code",
   "execution_count": 87,
   "id": "7e74a7d9-700a-4994-b08c-81647eb5eaca",
   "metadata": {},
   "outputs": [],
   "source": [
    "orden1 = pd.DataFrame({\"ciudad\":ruta_1,\"orden\": [i for i in range(len(ruta_1))], 'vehiculo':['V1' for i in range(len(ruta_1))]})\n",
    "orden2 = pd.DataFrame({\"ciudad\":ruta_2,\"orden\": [i for i in range(len(ruta_2))], 'vehiculo':['V2' for i in range(len(ruta_2))]})\n",
    "orden3 = pd.DataFrame({\"ciudad\":ruta_3,\"orden\": [i for i in range(len(ruta_3))], 'vehiculo':['V3' for i in range(len(ruta_3))]})"
   ]
  },
  {
   "cell_type": "code",
   "execution_count": 88,
   "id": "ccf43343-e401-4340-81a5-55b0318c62a7",
   "metadata": {},
   "outputs": [],
   "source": [
    "orden = pd.concat([orden1,orden2, orden3])"
   ]
  },
  {
   "cell_type": "code",
   "execution_count": 89,
   "id": "1395c075-aa19-4585-a739-246ec162379b",
   "metadata": {},
   "outputs": [
    {
     "data": {
      "text/html": [
       "<div>\n",
       "<style scoped>\n",
       "    .dataframe tbody tr th:only-of-type {\n",
       "        vertical-align: middle;\n",
       "    }\n",
       "\n",
       "    .dataframe tbody tr th {\n",
       "        vertical-align: top;\n",
       "    }\n",
       "\n",
       "    .dataframe thead th {\n",
       "        text-align: right;\n",
       "    }\n",
       "</style>\n",
       "<table border=\"1\" class=\"dataframe\">\n",
       "  <thead>\n",
       "    <tr style=\"text-align: right;\">\n",
       "      <th></th>\n",
       "      <th>ciudad</th>\n",
       "      <th>orden</th>\n",
       "      <th>vehiculo</th>\n",
       "    </tr>\n",
       "  </thead>\n",
       "  <tbody>\n",
       "    <tr>\n",
       "      <th>0</th>\n",
       "      <td>l</td>\n",
       "      <td>0</td>\n",
       "      <td>V1</td>\n",
       "    </tr>\n",
       "    <tr>\n",
       "      <th>1</th>\n",
       "      <td>f</td>\n",
       "      <td>1</td>\n",
       "      <td>V1</td>\n",
       "    </tr>\n",
       "    <tr>\n",
       "      <th>2</th>\n",
       "      <td>j</td>\n",
       "      <td>2</td>\n",
       "      <td>V1</td>\n",
       "    </tr>\n",
       "    <tr>\n",
       "      <th>3</th>\n",
       "      <td>b</td>\n",
       "      <td>3</td>\n",
       "      <td>V1</td>\n",
       "    </tr>\n",
       "    <tr>\n",
       "      <th>4</th>\n",
       "      <td>e</td>\n",
       "      <td>4</td>\n",
       "      <td>V1</td>\n",
       "    </tr>\n",
       "    <tr>\n",
       "      <th>5</th>\n",
       "      <td>l</td>\n",
       "      <td>5</td>\n",
       "      <td>V1</td>\n",
       "    </tr>\n",
       "    <tr>\n",
       "      <th>0</th>\n",
       "      <td>l</td>\n",
       "      <td>0</td>\n",
       "      <td>V2</td>\n",
       "    </tr>\n",
       "    <tr>\n",
       "      <th>1</th>\n",
       "      <td>k</td>\n",
       "      <td>1</td>\n",
       "      <td>V2</td>\n",
       "    </tr>\n",
       "    <tr>\n",
       "      <th>2</th>\n",
       "      <td>c</td>\n",
       "      <td>2</td>\n",
       "      <td>V2</td>\n",
       "    </tr>\n",
       "    <tr>\n",
       "      <th>3</th>\n",
       "      <td>h</td>\n",
       "      <td>3</td>\n",
       "      <td>V2</td>\n",
       "    </tr>\n",
       "    <tr>\n",
       "      <th>4</th>\n",
       "      <td>n</td>\n",
       "      <td>4</td>\n",
       "      <td>V2</td>\n",
       "    </tr>\n",
       "    <tr>\n",
       "      <th>5</th>\n",
       "      <td>a</td>\n",
       "      <td>5</td>\n",
       "      <td>V2</td>\n",
       "    </tr>\n",
       "    <tr>\n",
       "      <th>6</th>\n",
       "      <td>i</td>\n",
       "      <td>6</td>\n",
       "      <td>V2</td>\n",
       "    </tr>\n",
       "    <tr>\n",
       "      <th>7</th>\n",
       "      <td>l</td>\n",
       "      <td>7</td>\n",
       "      <td>V2</td>\n",
       "    </tr>\n",
       "    <tr>\n",
       "      <th>0</th>\n",
       "      <td>l</td>\n",
       "      <td>0</td>\n",
       "      <td>V3</td>\n",
       "    </tr>\n",
       "    <tr>\n",
       "      <th>1</th>\n",
       "      <td>g</td>\n",
       "      <td>1</td>\n",
       "      <td>V3</td>\n",
       "    </tr>\n",
       "    <tr>\n",
       "      <th>2</th>\n",
       "      <td>d</td>\n",
       "      <td>2</td>\n",
       "      <td>V3</td>\n",
       "    </tr>\n",
       "    <tr>\n",
       "      <th>3</th>\n",
       "      <td>m</td>\n",
       "      <td>3</td>\n",
       "      <td>V3</td>\n",
       "    </tr>\n",
       "    <tr>\n",
       "      <th>4</th>\n",
       "      <td>l</td>\n",
       "      <td>4</td>\n",
       "      <td>V3</td>\n",
       "    </tr>\n",
       "  </tbody>\n",
       "</table>\n",
       "</div>"
      ],
      "text/plain": [
       "  ciudad  orden vehiculo\n",
       "0      l      0       V1\n",
       "1      f      1       V1\n",
       "2      j      2       V1\n",
       "3      b      3       V1\n",
       "4      e      4       V1\n",
       "5      l      5       V1\n",
       "0      l      0       V2\n",
       "1      k      1       V2\n",
       "2     c       2       V2\n",
       "3      h      3       V2\n",
       "4      n      4       V2\n",
       "5      a      5       V2\n",
       "6      i      6       V2\n",
       "7      l      7       V2\n",
       "0      l      0       V3\n",
       "1      g      1       V3\n",
       "2      d      2       V3\n",
       "3      m      3       V3\n",
       "4      l      4       V3"
      ]
     },
     "execution_count": 89,
     "metadata": {},
     "output_type": "execute_result"
    }
   ],
   "source": [
    "orden"
   ]
  },
  {
   "cell_type": "code",
   "execution_count": 90,
   "id": "b8e2fe6e-1a2c-4767-945c-9fc33120809f",
   "metadata": {},
   "outputs": [],
   "source": [
    "data = data.merge(orden, how = 'inner', on = 'ciudad')\n",
    "data = data.sort_values(by = 'orden')"
   ]
  },
  {
   "cell_type": "code",
   "execution_count": 91,
   "id": "bce67952-5b62-479e-8641-3b83060d947c",
   "metadata": {},
   "outputs": [
    {
     "data": {
      "text/html": [
       "<div>\n",
       "<style scoped>\n",
       "    .dataframe tbody tr th:only-of-type {\n",
       "        vertical-align: middle;\n",
       "    }\n",
       "\n",
       "    .dataframe tbody tr th {\n",
       "        vertical-align: top;\n",
       "    }\n",
       "\n",
       "    .dataframe thead th {\n",
       "        text-align: right;\n",
       "    }\n",
       "</style>\n",
       "<table border=\"1\" class=\"dataframe\">\n",
       "  <thead>\n",
       "    <tr style=\"text-align: right;\">\n",
       "      <th></th>\n",
       "      <th>ciudad</th>\n",
       "      <th>x</th>\n",
       "      <th>y</th>\n",
       "      <th>tipo</th>\n",
       "      <th>orden</th>\n",
       "      <th>vehiculo</th>\n",
       "    </tr>\n",
       "  </thead>\n",
       "  <tbody>\n",
       "    <tr>\n",
       "      <th>15</th>\n",
       "      <td>l</td>\n",
       "      <td>9</td>\n",
       "      <td>6</td>\n",
       "      <td>origen</td>\n",
       "      <td>0</td>\n",
       "      <td>V3</td>\n",
       "    </tr>\n",
       "    <tr>\n",
       "      <th>11</th>\n",
       "      <td>l</td>\n",
       "      <td>9</td>\n",
       "      <td>6</td>\n",
       "      <td>origen</td>\n",
       "      <td>0</td>\n",
       "      <td>V1</td>\n",
       "    </tr>\n",
       "    <tr>\n",
       "      <th>13</th>\n",
       "      <td>l</td>\n",
       "      <td>9</td>\n",
       "      <td>6</td>\n",
       "      <td>origen</td>\n",
       "      <td>0</td>\n",
       "      <td>V2</td>\n",
       "    </tr>\n",
       "    <tr>\n",
       "      <th>5</th>\n",
       "      <td>f</td>\n",
       "      <td>14</td>\n",
       "      <td>3</td>\n",
       "      <td>destino</td>\n",
       "      <td>1</td>\n",
       "      <td>V1</td>\n",
       "    </tr>\n",
       "    <tr>\n",
       "      <th>6</th>\n",
       "      <td>g</td>\n",
       "      <td>5</td>\n",
       "      <td>4</td>\n",
       "      <td>destino</td>\n",
       "      <td>1</td>\n",
       "      <td>V3</td>\n",
       "    </tr>\n",
       "    <tr>\n",
       "      <th>10</th>\n",
       "      <td>k</td>\n",
       "      <td>12</td>\n",
       "      <td>8</td>\n",
       "      <td>destino</td>\n",
       "      <td>1</td>\n",
       "      <td>V2</td>\n",
       "    </tr>\n",
       "    <tr>\n",
       "      <th>9</th>\n",
       "      <td>j</td>\n",
       "      <td>12</td>\n",
       "      <td>1</td>\n",
       "      <td>destino</td>\n",
       "      <td>2</td>\n",
       "      <td>V1</td>\n",
       "    </tr>\n",
       "    <tr>\n",
       "      <th>2</th>\n",
       "      <td>c</td>\n",
       "      <td>13</td>\n",
       "      <td>10</td>\n",
       "      <td>destino</td>\n",
       "      <td>2</td>\n",
       "      <td>V2</td>\n",
       "    </tr>\n",
       "    <tr>\n",
       "      <th>3</th>\n",
       "      <td>d</td>\n",
       "      <td>3</td>\n",
       "      <td>7</td>\n",
       "      <td>destino</td>\n",
       "      <td>2</td>\n",
       "      <td>V3</td>\n",
       "    </tr>\n",
       "    <tr>\n",
       "      <th>1</th>\n",
       "      <td>b</td>\n",
       "      <td>10</td>\n",
       "      <td>1</td>\n",
       "      <td>destino</td>\n",
       "      <td>3</td>\n",
       "      <td>V1</td>\n",
       "    </tr>\n",
       "    <tr>\n",
       "      <th>7</th>\n",
       "      <td>h</td>\n",
       "      <td>10</td>\n",
       "      <td>11</td>\n",
       "      <td>destino</td>\n",
       "      <td>3</td>\n",
       "      <td>V2</td>\n",
       "    </tr>\n",
       "    <tr>\n",
       "      <th>17</th>\n",
       "      <td>m</td>\n",
       "      <td>5</td>\n",
       "      <td>7</td>\n",
       "      <td>destino</td>\n",
       "      <td>3</td>\n",
       "      <td>V3</td>\n",
       "    </tr>\n",
       "    <tr>\n",
       "      <th>16</th>\n",
       "      <td>l</td>\n",
       "      <td>9</td>\n",
       "      <td>6</td>\n",
       "      <td>origen</td>\n",
       "      <td>4</td>\n",
       "      <td>V3</td>\n",
       "    </tr>\n",
       "    <tr>\n",
       "      <th>18</th>\n",
       "      <td>n</td>\n",
       "      <td>9</td>\n",
       "      <td>13</td>\n",
       "      <td>destino</td>\n",
       "      <td>4</td>\n",
       "      <td>V2</td>\n",
       "    </tr>\n",
       "    <tr>\n",
       "      <th>4</th>\n",
       "      <td>e</td>\n",
       "      <td>7</td>\n",
       "      <td>1</td>\n",
       "      <td>destino</td>\n",
       "      <td>4</td>\n",
       "      <td>V1</td>\n",
       "    </tr>\n",
       "    <tr>\n",
       "      <th>12</th>\n",
       "      <td>l</td>\n",
       "      <td>9</td>\n",
       "      <td>6</td>\n",
       "      <td>origen</td>\n",
       "      <td>5</td>\n",
       "      <td>V1</td>\n",
       "    </tr>\n",
       "    <tr>\n",
       "      <th>0</th>\n",
       "      <td>a</td>\n",
       "      <td>7</td>\n",
       "      <td>15</td>\n",
       "      <td>destino</td>\n",
       "      <td>5</td>\n",
       "      <td>V2</td>\n",
       "    </tr>\n",
       "    <tr>\n",
       "      <th>8</th>\n",
       "      <td>i</td>\n",
       "      <td>7</td>\n",
       "      <td>11</td>\n",
       "      <td>destino</td>\n",
       "      <td>6</td>\n",
       "      <td>V2</td>\n",
       "    </tr>\n",
       "    <tr>\n",
       "      <th>14</th>\n",
       "      <td>l</td>\n",
       "      <td>9</td>\n",
       "      <td>6</td>\n",
       "      <td>origen</td>\n",
       "      <td>7</td>\n",
       "      <td>V2</td>\n",
       "    </tr>\n",
       "  </tbody>\n",
       "</table>\n",
       "</div>"
      ],
      "text/plain": [
       "   ciudad   x   y     tipo  orden vehiculo\n",
       "15      l   9   6   origen      0       V3\n",
       "11      l   9   6   origen      0       V1\n",
       "13      l   9   6   origen      0       V2\n",
       "5       f  14   3  destino      1       V1\n",
       "6       g   5   4  destino      1       V3\n",
       "10      k  12   8  destino      1       V2\n",
       "9       j  12   1  destino      2       V1\n",
       "2      c   13  10  destino      2       V2\n",
       "3       d   3   7  destino      2       V3\n",
       "1       b  10   1  destino      3       V1\n",
       "7       h  10  11  destino      3       V2\n",
       "17      m   5   7  destino      3       V3\n",
       "16      l   9   6   origen      4       V3\n",
       "18      n   9  13  destino      4       V2\n",
       "4       e   7   1  destino      4       V1\n",
       "12      l   9   6   origen      5       V1\n",
       "0       a   7  15  destino      5       V2\n",
       "8       i   7  11  destino      6       V2\n",
       "14      l   9   6   origen      7       V2"
      ]
     },
     "execution_count": 91,
     "metadata": {},
     "output_type": "execute_result"
    }
   ],
   "source": [
    "data"
   ]
  },
  {
   "cell_type": "markdown",
   "id": "670238fc-0173-47af-8101-d1d2ba47404c",
   "metadata": {},
   "source": [
    "### Visualización Ruta Optima"
   ]
  },
  {
   "cell_type": "code",
   "execution_count": 92,
   "id": "8958d8b0-419b-4f98-a769-525e3cfec75a",
   "metadata": {},
   "outputs": [
    {
     "data": {
      "image/png": "[encoded data removed]",
      "text/plain": [
       "<Figure size 640x480 with 1 Axes>"
      ]
     },
     "metadata": {},
     "output_type": "display_data"
    }
   ],
   "source": [
    "import matplotlib.pyplot as plt\n",
    "\n",
    "# Suponiendo que 'data' es un DataFrame que contiene columnas: 'vehiculo', 'x', 'y', 'ciudad'\n",
    "\n",
    "# Lista de colores predefinidos\n",
    "colores = ['orange','lightgreen', 'purple']\n",
    "\n",
    "# Crear la figura y el eje\n",
    "fig, ax = plt.subplots()\n",
    "\n",
    "# Iterar sobre cada vehículo único\n",
    "for idx, vehiculo in enumerate(data[\"vehiculo\"].unique()):\n",
    "    # Filtrar el DataFrame para obtener solo los datos de este vehículo\n",
    "    df = data[data[\"vehiculo\"] == vehiculo]\n",
    "    \n",
    "    # Asignar un color a cada vehículo según su índice\n",
    "    color = colores[idx % len(colores)]  # Si hay más vehículos que colores, se repiten\n",
    "    \n",
    "    # Graficar la trayectoria del vehículo\n",
    "    ax.plot(df[\"x\"], df[\"y\"], '-o', label=f'Vehículo {vehiculo}')\n",
    "    \n",
    "    # Añadir etiquetas con los nombres de las ciudades\n",
    "    for i in range(len(df)):\n",
    "        ax.text(df[\"x\"].iloc[i], df[\"y\"].iloc[i], df['ciudad'].iloc[i], fontsize=12, ha='center', color='black')\n",
    "\n",
    "# Ajustar el gráfico\n",
    "ax.set_xlabel('Coordenada X')\n",
    "ax.set_ylabel('Coordenada Y')\n",
    "ax.set_title('Rutas de los vehículos')\n",
    "ax.legend()\n",
    "\n",
    "# Mostrar el gráfico\n",
    "plt.show()\n"
   ]
  },
  {
   "cell_type": "markdown",
   "id": "f7b04d3d-c9ef-4f70-a3f4-8bc4887f28b8",
   "metadata": {},
   "source": [
    "__Nota__: Al terminar de visitar la ultima ciudad retorna al punto inicial a."
   ]
  },
  {
   "cell_type": "markdown",
   "id": "bce9120e-428b-455e-8709-34c488b0bc3f",
   "metadata": {},
   "source": [
    "### Crear gif animado"
   ]
  },
  {
   "cell_type": "code",
   "execution_count": 161,
   "id": "86abbcba-283f-426e-bfe9-006c352117cb",
   "metadata": {},
   "outputs": [
    {
     "data": {
      "application/vnd.plotly.v1+json": {
       "config": {
        "plotlyServerURL": "https://plot.ly"
       },
       "data": [
        {
         "line": {
          "color": "orange",
          "width": 2
         },
         "marker": {
          "color": "orange",
          "size": 8
         },
         "mode": "lines+markers",
         "name": "Vehículo V3",
         "type": "scatter",
         "x": [
          9,
          5,
          3,
          5,
          9
         ],
         "y": [
          6,
          4,
          7,
          7,
          6
         ]
        },
        {
         "line": {
          "color": "lightgreen",
          "width": 2
         },
         "marker": {
          "color": "lightgreen",
          "size": 8
         },
         "mode": "lines+markers",
         "name": "Vehículo V1",
         "type": "scatter",
         "x": [
          9,
          14,
          12,
          10,
          7,
          9
         ],
         "y": [
          6,
          3,
          1,
          1,
          1,
          6
         ]
        },
        {
         "line": {
          "color": "purple",
          "width": 2
         },
         "marker": {
          "color": "purple",
          "size": 8
         },
         "mode": "lines+markers",
         "name": "Vehículo V2",
         "type": "scatter",
         "x": [
          9,
          12,
          13,
          10,
          9,
          7,
          7,
          9
         ],
         "y": [
          6,
          8,
          10,
          11,
          13,
          15,
          11,
          6
         ]
        }
       ],
       "layout": {
        "height": 600,
        "showlegend": true,
        "template": {
         "data": {
          "bar": [
           {
            "error_x": {
             "color": "#2a3f5f"
            },
            "error_y": {
             "color": "#2a3f5f"
            },
            "marker": {
             "line": {
              "color": "#E5ECF6",
              "width": 0.5
             },
             "pattern": {
              "fillmode": "overlay",
              "size": 10,
              "solidity": 0.2
             }
            },
            "type": "bar"
           }
          ],
          "barpolar": [
           {
            "marker": {
             "line": {
              "color": "#E5ECF6",
              "width": 0.5
             },
             "pattern": {
              "fillmode": "overlay",
              "size": 10,
              "solidity": 0.2
             }
            },
            "type": "barpolar"
           }
          ],
          "carpet": [
           {
            "aaxis": {
             "endlinecolor": "#2a3f5f",
             "gridcolor": "white",
             "linecolor": "white",
             "minorgridcolor": "white",
             "startlinecolor": "#2a3f5f"
            },
            "baxis": {
             "endlinecolor": "#2a3f5f",
             "gridcolor": "white",
             "linecolor": "white",
             "minorgridcolor": "white",
             "startlinecolor": "#2a3f5f"
            },
            "type": "carpet"
           }
          ],
          "choropleth": [
           {
            "colorbar": {
             "outlinewidth": 0,
             "ticks": ""
            },
            "type": "choropleth"
           }
          ],
          "contour": [
           {
            "colorbar": {
             "outlinewidth": 0,
             "ticks": ""
            },
            "colorscale": [
             [
              0,
              "#0d0887"
             ],
             [
              0.1111111111111111,
              "#46039f"
             ],
             [
              0.2222222222222222,
              "#7201a8"
             ],
             [
              0.3333333333333333,
              "#9c179e"
             ],
             [
              0.4444444444444444,
              "#bd3786"
             ],
             [
              0.5555555555555556,
              "#d8576b"
             ],
             [
              0.6666666666666666,
              "#ed7953"
             ],
             [
              0.7777777777777778,
              "#fb9f3a"
             ],
             [
              0.8888888888888888,
              "#fdca26"
             ],
             [
              1,
              "#f0f921"
             ]
            ],
            "type": "contour"
           }
          ],
          "contourcarpet": [
           {
            "colorbar": {
             "outlinewidth": 0,
             "ticks": ""
            },
            "type": "contourcarpet"
           }
          ],
          "heatmap": [
           {
            "colorbar": {
             "outlinewidth": 0,
             "ticks": ""
            },
            "colorscale": [
             [
              0,
              "#0d0887"
             ],
             [
              0.1111111111111111,
              "#46039f"
             ],
             [
              0.2222222222222222,
              "#7201a8"
             ],
             [
              0.3333333333333333,
              "#9c179e"
             ],
             [
              0.4444444444444444,
              "#bd3786"
             ],
             [
              0.5555555555555556,
              "#d8576b"
             ],
             [
              0.6666666666666666,
              "#ed7953"
             ],
             [
              0.7777777777777778,
              "#fb9f3a"
             ],
             [
              0.8888888888888888,
              "#fdca26"
             ],
             [
              1,
              "#f0f921"
             ]
            ],
            "type": "heatmap"
           }
          ],
          "heatmapgl": [
           {
            "colorbar": {
             "outlinewidth": 0,
             "ticks": ""
            },
            "colorscale": [
             [
              0,
              "#0d0887"
             ],
             [
              0.1111111111111111,
              "#46039f"
             ],
             [
              0.2222222222222222,
              "#7201a8"
             ],
             [
              0.3333333333333333,
              "#9c179e"
             ],
             [
              0.4444444444444444,
              "#bd3786"
             ],
             [
              0.5555555555555556,
              "#d8576b"
             ],
             [
              0.6666666666666666,
              "#ed7953"
             ],
             [
              0.7777777777777778,
              "#fb9f3a"
             ],
             [
              0.8888888888888888,
              "#fdca26"
             ],
             [
              1,
              "#f0f921"
             ]
            ],
            "type": "heatmapgl"
           }
          ],
          "histogram": [
           {
            "marker": {
             "pattern": {
              "fillmode": "overlay",
              "size": 10,
              "solidity": 0.2
             }
            },
            "type": "histogram"
           }
          ],
          "histogram2d": [
           {
            "colorbar": {
             "outlinewidth": 0,
             "ticks": ""
            },
            "colorscale": [
             [
              0,
              "#0d0887"
             ],
             [
              0.1111111111111111,
              "#46039f"
             ],
             [
              0.2222222222222222,
              "#7201a8"
             ],
             [
              0.3333333333333333,
              "#9c179e"
             ],
             [
              0.4444444444444444,
              "#bd3786"
             ],
             [
              0.5555555555555556,
              "#d8576b"
             ],
             [
              0.6666666666666666,
              "#ed7953"
             ],
             [
              0.7777777777777778,
              "#fb9f3a"
             ],
             [
              0.8888888888888888,
              "#fdca26"
             ],
             [
              1,
              "#f0f921"
             ]
            ],
            "type": "histogram2d"
           }
          ],
          "histogram2dcontour": [
           {
            "colorbar": {
             "outlinewidth": 0,
             "ticks": ""
            },
            "colorscale": [
             [
              0,
              "#0d0887"
             ],
             [
              0.1111111111111111,
              "#46039f"
             ],
             [
              0.2222222222222222,
              "#7201a8"
             ],
             [
              0.3333333333333333,
              "#9c179e"
             ],
             [
              0.4444444444444444,
              "#bd3786"
             ],
             [
              0.5555555555555556,
              "#d8576b"
             ],
             [
              0.6666666666666666,
              "#ed7953"
             ],
             [
              0.7777777777777778,
              "#fb9f3a"
             ],
             [
              0.8888888888888888,
              "#fdca26"
             ],
             [
              1,
              "#f0f921"
             ]
            ],
            "type": "histogram2dcontour"
           }
          ],
          "mesh3d": [
           {
            "colorbar": {
             "outlinewidth": 0,
             "ticks": ""
            },
            "type": "mesh3d"
           }
          ],
          "parcoords": [
           {
            "line": {
             "colorbar": {
              "outlinewidth": 0,
              "ticks": ""
             }
            },
            "type": "parcoords"
           }
          ],
          "pie": [
           {
            "automargin": true,
            "type": "pie"
           }
          ],
          "scatter": [
           {
            "fillpattern": {
             "fillmode": "overlay",
             "size": 10,
             "solidity": 0.2
            },
            "type": "scatter"
           }
          ],
          "scatter3d": [
           {
            "line": {
             "colorbar": {
              "outlinewidth": 0,
              "ticks": ""
             }
            },
            "marker": {
             "colorbar": {
              "outlinewidth": 0,
              "ticks": ""
             }
            },
            "type": "scatter3d"
           }
          ],
          "scattercarpet": [
           {
            "marker": {
             "colorbar": {
              "outlinewidth": 0,
              "ticks": ""
             }
            },
            "type": "scattercarpet"
           }
          ],
          "scattergeo": [
           {
            "marker": {
             "colorbar": {
              "outlinewidth": 0,
              "ticks": ""
             }
            },
            "type": "scattergeo"
           }
          ],
          "scattergl": [
           {
            "marker": {
             "colorbar": {
              "outlinewidth": 0,
              "ticks": ""
             }
            },
            "type": "scattergl"
           }
          ],
          "scattermapbox": [
           {
            "marker": {
             "colorbar": {
              "outlinewidth": 0,
              "ticks": ""
             }
            },
            "type": "scattermapbox"
           }
          ],
          "scatterpolar": [
           {
            "marker": {
             "colorbar": {
              "outlinewidth": 0,
              "ticks": ""
             }
            },
            "type": "scatterpolar"
           }
          ],
          "scatterpolargl": [
           {
            "marker": {
             "colorbar": {
              "outlinewidth": 0,
              "ticks": ""
             }
            },
            "type": "scatterpolargl"
           }
          ],
          "scatterternary": [
           {
            "marker": {
             "colorbar": {
              "outlinewidth": 0,
              "ticks": ""
             }
            },
            "type": "scatterternary"
           }
          ],
          "surface": [
           {
            "colorbar": {
             "outlinewidth": 0,
             "ticks": ""
            },
            "colorscale": [
             [
              0,
              "#0d0887"
             ],
             [
              0.1111111111111111,
              "#46039f"
             ],
             [
              0.2222222222222222,
              "#7201a8"
             ],
             [
              0.3333333333333333,
              "#9c179e"
             ],
             [
              0.4444444444444444,
              "#bd3786"
             ],
             [
              0.5555555555555556,
              "#d8576b"
             ],
             [
              0.6666666666666666,
              "#ed7953"
             ],
             [
              0.7777777777777778,
              "#fb9f3a"
             ],
             [
              0.8888888888888888,
              "#fdca26"
             ],
             [
              1,
              "#f0f921"
             ]
            ],
            "type": "surface"
           }
          ],
          "table": [
           {
            "cells": {
             "fill": {
              "color": "#EBF0F8"
             },
             "line": {
              "color": "white"
             }
            },
            "header": {
             "fill": {
              "color": "#C8D4E3"
             },
             "line": {
              "color": "white"
             }
            },
            "type": "table"
           }
          ]
         },
         "layout": {
          "annotationdefaults": {
           "arrowcolor": "#2a3f5f",
           "arrowhead": 0,
           "arrowwidth": 1
          },
          "autotypenumbers": "strict",
          "coloraxis": {
           "colorbar": {
            "outlinewidth": 0,
            "ticks": ""
           }
          },
          "colorscale": {
           "diverging": [
            [
             0,
             "#8e0152"
            ],
            [
             0.1,
             "#c51b7d"
            ],
            [
             0.2,
             "#de77ae"
            ],
            [
             0.3,
             "#f1b6da"
            ],
            [
             0.4,
             "#fde0ef"
            ],
            [
             0.5,
             "#f7f7f7"
            ],
            [
             0.6,
             "#e6f5d0"
            ],
            [
             0.7,
             "#b8e186"
            ],
            [
             0.8,
             "#7fbc41"
            ],
            [
             0.9,
             "#4d9221"
            ],
            [
             1,
             "#276419"
            ]
           ],
           "sequential": [
            [
             0,
             "#0d0887"
            ],
            [
             0.1111111111111111,
             "#46039f"
            ],
            [
             0.2222222222222222,
             "#7201a8"
            ],
            [
             0.3333333333333333,
             "#9c179e"
            ],
            [
             0.4444444444444444,
             "#bd3786"
            ],
            [
             0.5555555555555556,
             "#d8576b"
            ],
            [
             0.6666666666666666,
             "#ed7953"
            ],
            [
             0.7777777777777778,
             "#fb9f3a"
            ],
            [
             0.8888888888888888,
             "#fdca26"
            ],
            [
             1,
             "#f0f921"
            ]
           ],
           "sequentialminus": [
            [
             0,
             "#0d0887"
            ],
            [
             0.1111111111111111,
             "#46039f"
            ],
            [
             0.2222222222222222,
             "#7201a8"
            ],
            [
             0.3333333333333333,
             "#9c179e"
            ],
            [
             0.4444444444444444,
             "#bd3786"
            ],
            [
             0.5555555555555556,
             "#d8576b"
            ],
            [
             0.6666666666666666,
             "#ed7953"
            ],
            [
             0.7777777777777778,
             "#fb9f3a"
            ],
            [
             0.8888888888888888,
             "#fdca26"
            ],
            [
             1,
             "#f0f921"
            ]
           ]
          },
          "colorway": [
           "#636efa",
           "#EF553B",
           "#00cc96",
           "#ab63fa",
           "#FFA15A",
           "#19d3f3",
           "#FF6692",
           "#B6E880",
           "#FF97FF",
           "#FECB52"
          ],
          "font": {
           "color": "#2a3f5f"
          },
          "geo": {
           "bgcolor": "white",
           "lakecolor": "white",
           "landcolor": "#E5ECF6",
           "showlakes": true,
           "showland": true,
           "subunitcolor": "white"
          },
          "hoverlabel": {
           "align": "left"
          },
          "hovermode": "closest",
          "mapbox": {
           "style": "light"
          },
          "paper_bgcolor": "white",
          "plot_bgcolor": "#E5ECF6",
          "polar": {
           "angularaxis": {
            "gridcolor": "white",
            "linecolor": "white",
            "ticks": ""
           },
           "bgcolor": "#E5ECF6",
           "radialaxis": {
            "gridcolor": "white",
            "linecolor": "white",
            "ticks": ""
           }
          },
          "scene": {
           "xaxis": {
            "backgroundcolor": "#E5ECF6",
            "gridcolor": "white",
            "gridwidth": 2,
            "linecolor": "white",
            "showbackground": true,
            "ticks": "",
            "zerolinecolor": "white"
           },
           "yaxis": {
            "backgroundcolor": "#E5ECF6",
            "gridcolor": "white",
            "gridwidth": 2,
            "linecolor": "white",
            "showbackground": true,
            "ticks": "",
            "zerolinecolor": "white"
           },
           "zaxis": {
            "backgroundcolor": "#E5ECF6",
            "gridcolor": "white",
            "gridwidth": 2,
            "linecolor": "white",
            "showbackground": true,
            "ticks": "",
            "zerolinecolor": "white"
           }
          },
          "shapedefaults": {
           "line": {
            "color": "#2a3f5f"
           }
          },
          "ternary": {
           "aaxis": {
            "gridcolor": "white",
            "linecolor": "white",
            "ticks": ""
           },
           "baxis": {
            "gridcolor": "white",
            "linecolor": "white",
            "ticks": ""
           },
           "bgcolor": "#E5ECF6",
           "caxis": {
            "gridcolor": "white",
            "linecolor": "white",
            "ticks": ""
           }
          },
          "title": {
           "x": 0.05
          },
          "xaxis": {
           "automargin": true,
           "gridcolor": "white",
           "linecolor": "white",
           "ticks": "",
           "title": {
            "standoff": 15
           },
           "zerolinecolor": "white",
           "zerolinewidth": 2
          },
          "yaxis": {
           "automargin": true,
           "gridcolor": "white",
           "linecolor": "white",
           "ticks": "",
           "title": {
            "standoff": 15
           },
           "zerolinecolor": "white",
           "zerolinewidth": 2
          }
         }
        },
        "title": {
         "text": "Rutas de Vehículos"
        },
        "width": 600,
        "xaxis": {
         "range": [
          2,
          15
         ],
         "title": {
          "text": "Coordenada X"
         },
         "type": "linear"
        },
        "yaxis": {
         "range": [
          0,
          16
         ],
         "title": {
          "text": "Coordenada Y"
         },
         "type": "linear"
        }
       }
      },
      "image/png": "[encoded data removed]",
      "text/html": [
       "<div>                            <div id=\"7d1f917c-7e67-43c5-b975-38d1cb469a0e\" class=\"plotly-graph-div\" style=\"height:600px; width:600px;\"></div>            <script type=\"text/javascript\">                require([\"plotly\"], function(Plotly) {                    window.PLOTLYENV=window.PLOTLYENV || {};                                    if (document.getElementById(\"7d1f917c-7e67-43c5-b975-38d1cb469a0e\")) {                    Plotly.newPlot(                        \"7d1f917c-7e67-43c5-b975-38d1cb469a0e\",                        [{\"line\":{\"color\":\"orange\",\"width\":2},\"marker\":{\"color\":\"orange\",\"size\":8},\"mode\":\"lines+markers\",\"name\":\"Veh\\u00edculo V3\",\"x\":[9,5,3,5,9],\"y\":[6,4,7,7,6],\"type\":\"scatter\"},{\"line\":{\"color\":\"lightgreen\",\"width\":2},\"marker\":{\"color\":\"lightgreen\",\"size\":8},\"mode\":\"lines+markers\",\"name\":\"Veh\\u00edculo V1\",\"x\":[9,14,12,10,7,9],\"y\":[6,3,1,1,1,6],\"type\":\"scatter\"},{\"line\":{\"color\":\"purple\",\"width\":2},\"marker\":{\"color\":\"purple\",\"size\":8},\"mode\":\"lines+markers\",\"name\":\"Veh\\u00edculo V2\",\"x\":[9,12,13,10,9,7,7,9],\"y\":[6,8,10,11,13,15,11,6],\"type\":\"scatter\"}],                        {\"template\":{\"data\":{\"histogram2dcontour\":[{\"type\":\"histogram2dcontour\",\"colorbar\":{\"outlinewidth\":0,\"ticks\":\"\"},\"colorscale\":[[0.0,\"#0d0887\"],[0.1111111111111111,\"#46039f\"],[0.2222222222222222,\"#7201a8\"],[0.3333333333333333,\"#9c179e\"],[0.4444444444444444,\"#bd3786\"],[0.5555555555555556,\"#d8576b\"],[0.6666666666666666,\"#ed7953\"],[0.7777777777777778,\"#fb9f3a\"],[0.8888888888888888,\"#fdca26\"],[1.0,\"#f0f921\"]]}],\"choropleth\":[{\"type\":\"choropleth\",\"colorbar\":{\"outlinewidth\":0,\"ticks\":\"\"}}],\"histogram2d\":[{\"type\":\"histogram2d\",\"colorbar\":{\"outlinewidth\":0,\"ticks\":\"\"},\"colorscale\":[[0.0,\"#0d0887\"],[0.1111111111111111,\"#46039f\"],[0.2222222222222222,\"#7201a8\"],[0.3333333333333333,\"#9c179e\"],[0.4444444444444444,\"#bd3786\"],[0.5555555555555556,\"#d8576b\"],[0.6666666666666666,\"#ed7953\"],[0.7777777777777778,\"#fb9f3a\"],[0.8888888888888888,\"#fdca26\"],[1.0,\"#f0f921\"]]}],\"heatmap\":[{\"type\":\"heatmap\",\"colorbar\":{\"outlinewidth\":0,\"ticks\":\"\"},\"colorscale\":[[0.0,\"#0d0887\"],[0.1111111111111111,\"#46039f\"],[0.2222222222222222,\"#7201a8\"],[0.3333333333333333,\"#9c179e\"],[0.4444444444444444,\"#bd3786\"],[0.5555555555555556,\"#d8576b\"],[0.6666666666666666,\"#ed7953\"],[0.7777777777777778,\"#fb9f3a\"],[0.8888888888888888,\"#fdca26\"],[1.0,\"#f0f921\"]]}],\"heatmapgl\":[{\"type\":\"heatmapgl\",\"colorbar\":{\"outlinewidth\":0,\"ticks\":\"\"},\"colorscale\":[[0.0,\"#0d0887\"],[0.1111111111111111,\"#46039f\"],[0.2222222222222222,\"#7201a8\"],[0.3333333333333333,\"#9c179e\"],[0.4444444444444444,\"#bd3786\"],[0.5555555555555556,\"#d8576b\"],[0.6666666666666666,\"#ed7953\"],[0.7777777777777778,\"#fb9f3a\"],[0.8888888888888888,\"#fdca26\"],[1.0,\"#f0f921\"]]}],\"contourcarpet\":[{\"type\":\"contourcarpet\",\"colorbar\":{\"outlinewidth\":0,\"ticks\":\"\"}}],\"contour\":[{\"type\":\"contour\",\"colorbar\":{\"outlinewidth\":0,\"ticks\":\"\"},\"colorscale\":[[0.0,\"#0d0887\"],[0.1111111111111111,\"#46039f\"],[0.2222222222222222,\"#7201a8\"],[0.3333333333333333,\"#9c179e\"],[0.4444444444444444,\"#bd3786\"],[0.5555555555555556,\"#d8576b\"],[0.6666666666666666,\"#ed7953\"],[0.7777777777777778,\"#fb9f3a\"],[0.8888888888888888,\"#fdca26\"],[1.0,\"#f0f921\"]]}],\"surface\":[{\"type\":\"surface\",\"colorbar\":{\"outlinewidth\":0,\"ticks\":\"\"},\"colorscale\":[[0.0,\"#0d0887\"],[0.1111111111111111,\"#46039f\"],[0.2222222222222222,\"#7201a8\"],[0.3333333333333333,\"#9c179e\"],[0.4444444444444444,\"#bd3786\"],[0.5555555555555556,\"#d8576b\"],[0.6666666666666666,\"#ed7953\"],[0.7777777777777778,\"#fb9f3a\"],[0.8888888888888888,\"#fdca26\"],[1.0,\"#f0f921\"]]}],\"mesh3d\":[{\"type\":\"mesh3d\",\"colorbar\":{\"outlinewidth\":0,\"ticks\":\"\"}}],\"scatter\":[{\"fillpattern\":{\"fillmode\":\"overlay\",\"size\":10,\"solidity\":0.2},\"type\":\"scatter\"}],\"parcoords\":[{\"type\":\"parcoords\",\"line\":{\"colorbar\":{\"outlinewidth\":0,\"ticks\":\"\"}}}],\"scatterpolargl\":[{\"type\":\"scatterpolargl\",\"marker\":{\"colorbar\":{\"outlinewidth\":0,\"ticks\":\"\"}}}],\"bar\":[{\"error_x\":{\"color\":\"#2a3f5f\"},\"error_y\":{\"color\":\"#2a3f5f\"},\"marker\":{\"line\":{\"color\":\"#E5ECF6\",\"width\":0.5},\"pattern\":{\"fillmode\":\"overlay\",\"size\":10,\"solidity\":0.2}},\"type\":\"bar\"}],\"scattergeo\":[{\"type\":\"scattergeo\",\"marker\":{\"colorbar\":{\"outlinewidth\":0,\"ticks\":\"\"}}}],\"scatterpolar\":[{\"type\":\"scatterpolar\",\"marker\":{\"colorbar\":{\"outlinewidth\":0,\"ticks\":\"\"}}}],\"histogram\":[{\"marker\":{\"pattern\":{\"fillmode\":\"overlay\",\"size\":10,\"solidity\":0.2}},\"type\":\"histogram\"}],\"scattergl\":[{\"type\":\"scattergl\",\"marker\":{\"colorbar\":{\"outlinewidth\":0,\"ticks\":\"\"}}}],\"scatter3d\":[{\"type\":\"scatter3d\",\"line\":{\"colorbar\":{\"outlinewidth\":0,\"ticks\":\"\"}},\"marker\":{\"colorbar\":{\"outlinewidth\":0,\"ticks\":\"\"}}}],\"scattermapbox\":[{\"type\":\"scattermapbox\",\"marker\":{\"colorbar\":{\"outlinewidth\":0,\"ticks\":\"\"}}}],\"scatterternary\":[{\"type\":\"scatterternary\",\"marker\":{\"colorbar\":{\"outlinewidth\":0,\"ticks\":\"\"}}}],\"scattercarpet\":[{\"type\":\"scattercarpet\",\"marker\":{\"colorbar\":{\"outlinewidth\":0,\"ticks\":\"\"}}}],\"carpet\":[{\"aaxis\":{\"endlinecolor\":\"#2a3f5f\",\"gridcolor\":\"white\",\"linecolor\":\"white\",\"minorgridcolor\":\"white\",\"startlinecolor\":\"#2a3f5f\"},\"baxis\":{\"endlinecolor\":\"#2a3f5f\",\"gridcolor\":\"white\",\"linecolor\":\"white\",\"minorgridcolor\":\"white\",\"startlinecolor\":\"#2a3f5f\"},\"type\":\"carpet\"}],\"table\":[{\"cells\":{\"fill\":{\"color\":\"#EBF0F8\"},\"line\":{\"color\":\"white\"}},\"header\":{\"fill\":{\"color\":\"#C8D4E3\"},\"line\":{\"color\":\"white\"}},\"type\":\"table\"}],\"barpolar\":[{\"marker\":{\"line\":{\"color\":\"#E5ECF6\",\"width\":0.5},\"pattern\":{\"fillmode\":\"overlay\",\"size\":10,\"solidity\":0.2}},\"type\":\"barpolar\"}],\"pie\":[{\"automargin\":true,\"type\":\"pie\"}]},\"layout\":{\"autotypenumbers\":\"strict\",\"colorway\":[\"#636efa\",\"#EF553B\",\"#00cc96\",\"#ab63fa\",\"#FFA15A\",\"#19d3f3\",\"#FF6692\",\"#B6E880\",\"#FF97FF\",\"#FECB52\"],\"font\":{\"color\":\"#2a3f5f\"},\"hovermode\":\"closest\",\"hoverlabel\":{\"align\":\"left\"},\"paper_bgcolor\":\"white\",\"plot_bgcolor\":\"#E5ECF6\",\"polar\":{\"bgcolor\":\"#E5ECF6\",\"angularaxis\":{\"gridcolor\":\"white\",\"linecolor\":\"white\",\"ticks\":\"\"},\"radialaxis\":{\"gridcolor\":\"white\",\"linecolor\":\"white\",\"ticks\":\"\"}},\"ternary\":{\"bgcolor\":\"#E5ECF6\",\"aaxis\":{\"gridcolor\":\"white\",\"linecolor\":\"white\",\"ticks\":\"\"},\"baxis\":{\"gridcolor\":\"white\",\"linecolor\":\"white\",\"ticks\":\"\"},\"caxis\":{\"gridcolor\":\"white\",\"linecolor\":\"white\",\"ticks\":\"\"}},\"coloraxis\":{\"colorbar\":{\"outlinewidth\":0,\"ticks\":\"\"}},\"colorscale\":{\"sequential\":[[0.0,\"#0d0887\"],[0.1111111111111111,\"#46039f\"],[0.2222222222222222,\"#7201a8\"],[0.3333333333333333,\"#9c179e\"],[0.4444444444444444,\"#bd3786\"],[0.5555555555555556,\"#d8576b\"],[0.6666666666666666,\"#ed7953\"],[0.7777777777777778,\"#fb9f3a\"],[0.8888888888888888,\"#fdca26\"],[1.0,\"#f0f921\"]],\"sequentialminus\":[[0.0,\"#0d0887\"],[0.1111111111111111,\"#46039f\"],[0.2222222222222222,\"#7201a8\"],[0.3333333333333333,\"#9c179e\"],[0.4444444444444444,\"#bd3786\"],[0.5555555555555556,\"#d8576b\"],[0.6666666666666666,\"#ed7953\"],[0.7777777777777778,\"#fb9f3a\"],[0.8888888888888888,\"#fdca26\"],[1.0,\"#f0f921\"]],\"diverging\":[[0,\"#8e0152\"],[0.1,\"#c51b7d\"],[0.2,\"#de77ae\"],[0.3,\"#f1b6da\"],[0.4,\"#fde0ef\"],[0.5,\"#f7f7f7\"],[0.6,\"#e6f5d0\"],[0.7,\"#b8e186\"],[0.8,\"#7fbc41\"],[0.9,\"#4d9221\"],[1,\"#276419\"]]},\"xaxis\":{\"gridcolor\":\"white\",\"linecolor\":\"white\",\"ticks\":\"\",\"title\":{\"standoff\":15},\"zerolinecolor\":\"white\",\"automargin\":true,\"zerolinewidth\":2},\"yaxis\":{\"gridcolor\":\"white\",\"linecolor\":\"white\",\"ticks\":\"\",\"title\":{\"standoff\":15},\"zerolinecolor\":\"white\",\"automargin\":true,\"zerolinewidth\":2},\"scene\":{\"xaxis\":{\"backgroundcolor\":\"#E5ECF6\",\"gridcolor\":\"white\",\"linecolor\":\"white\",\"showbackground\":true,\"ticks\":\"\",\"zerolinecolor\":\"white\",\"gridwidth\":2},\"yaxis\":{\"backgroundcolor\":\"#E5ECF6\",\"gridcolor\":\"white\",\"linecolor\":\"white\",\"showbackground\":true,\"ticks\":\"\",\"zerolinecolor\":\"white\",\"gridwidth\":2},\"zaxis\":{\"backgroundcolor\":\"#E5ECF6\",\"gridcolor\":\"white\",\"linecolor\":\"white\",\"showbackground\":true,\"ticks\":\"\",\"zerolinecolor\":\"white\",\"gridwidth\":2}},\"shapedefaults\":{\"line\":{\"color\":\"#2a3f5f\"}},\"annotationdefaults\":{\"arrowcolor\":\"#2a3f5f\",\"arrowhead\":0,\"arrowwidth\":1},\"geo\":{\"bgcolor\":\"white\",\"landcolor\":\"#E5ECF6\",\"subunitcolor\":\"white\",\"showland\":true,\"showlakes\":true,\"lakecolor\":\"white\"},\"title\":{\"x\":0.05},\"mapbox\":{\"style\":\"light\"}}},\"xaxis\":{\"title\":{\"text\":\"Coordenada X\"},\"range\":[2,15]},\"yaxis\":{\"title\":{\"text\":\"Coordenada Y\"},\"range\":[0,16]},\"title\":{\"text\":\"Rutas de Veh\\u00edculos\"},\"width\":600,\"height\":600,\"showlegend\":true},                        {\"responsive\": true}                    ).then(function(){\n",
       "                            \n",
       "var gd = document.getElementById('7d1f917c-7e67-43c5-b975-38d1cb469a0e');\n",
       "var x = new MutationObserver(function (mutations, observer) {{\n",
       "        var display = window.getComputedStyle(gd).display;\n",
       "        if (!display || display === 'none') {{\n",
       "            console.log([gd, 'removed!']);\n",
       "            Plotly.purge(gd);\n",
       "            observer.disconnect();\n",
       "        }}\n",
       "}});\n",
       "\n",
       "// Listen for the removal of the full notebook cells\n",
       "var notebookContainer = gd.closest('#notebook-container');\n",
       "if (notebookContainer) {{\n",
       "    x.observe(notebookContainer, {childList: true});\n",
       "}}\n",
       "\n",
       "// Listen for the clearing of the current output cell\n",
       "var outputEl = gd.closest('.output');\n",
       "if (outputEl) {{\n",
       "    x.observe(outputEl, {childList: true});\n",
       "}}\n",
       "\n",
       "                        })                };                });            </script>        </div>"
      ]
     },
     "metadata": {},
     "output_type": "display_data"
    },
    {
     "name": "stdout",
     "output_type": "stream",
     "text": [
      "GIF guardado como 'animacion_rutas.gif'.\n"
     ]
    }
   ],
   "source": [
    "import plotly.graph_objects as go\n",
    "import imageio\n",
    "import os\n",
    "\n",
    "# Lista de colores para los vehículos\n",
    "colores = ['orange', 'lightgreen', 'purple']\n",
    "\n",
    "# Crear la figura inicial\n",
    "fig = go.Figure()\n",
    "\n",
    "# Crear los frames para la animación\n",
    "frames = []\n",
    "image_files = []\n",
    "\n",
    "# Suponiendo que 'data' tiene las columnas: 'vehiculo', 'x', 'y', 'ciudad'\n",
    "# Y 'vehiculo' es una columna que indica qué vehículo realiza la ruta\n",
    "\n",
    "# Crear los frames para la animación\n",
    "for i in range(1, len(data) + 1):  # Crear un frame por cada ciudad\n",
    "    # Limpiar las trazas previas\n",
    "    fig.data = []\n",
    "\n",
    "    # Añadir la ruta de cada vehículo hasta el punto i\n",
    "    for idx, vehiculo in enumerate(data['vehiculo'].unique()):\n",
    "        df = data[data['vehiculo'] == vehiculo].iloc[:i]  # Tomar solo los primeros i puntos\n",
    "        \n",
    "        color = colores[idx % len(colores)]  # Asignar color a cada vehículo\n",
    "        \n",
    "        # Crear una traza para cada vehículo\n",
    "        fig.add_trace(go.Scatter(\n",
    "            x=df['x'], y=df['y'], mode='lines+markers', line=dict(color=color, width=2),\n",
    "            marker=dict(color=color, size=8),\n",
    "            name=f'Vehículo {vehiculo}'\n",
    "        ))\n",
    "\n",
    "    # Configurar el layout\n",
    "    fig.update_layout(\n",
    "        title='Rutas de Vehículos',\n",
    "        xaxis_title='Coordenada X',\n",
    "        yaxis_title='Coordenada Y',\n",
    "        width=600,\n",
    "        height=600,\n",
    "        xaxis=dict(range=[data['x'].min() - 1, data['x'].max() + 1]),  # Ajuste dinámico de rango X\n",
    "        yaxis=dict(range=[data['y'].min() - 1, data['y'].max() + 1]),  # Ajuste dinámico de rango Y\n",
    "        showlegend=True,\n",
    "        updatemenus=[],  # Desactivar botones y controles\n",
    "        sliders=[]      # Desactivar sliders\n",
    "    )\n",
    "    \n",
    "    # Guardar la figura como imagen\n",
    "    img_path = f'frame_{i}.png'\n",
    "    fig.write_image(img_path)\n",
    "    image_files.append(img_path)\n",
    "\n",
    "fig.show()\n",
    "\n",
    "# Crear el GIF\n",
    "with imageio.get_writer('animacion_rutas.gif', mode='I', duration=1000) as writer:\n",
    "    for image_file in image_files:\n",
    "        writer.append_data(imageio.imread(image_file))  # Añadir cada imagen como un frame\n",
    "\n",
    "# Limpiar imágenes temporales\n",
    "for image_file in image_files:\n",
    "    os.remove(image_file)\n",
    "\n",
    "print(\"GIF guardado como 'animacion_rutas.gif'.\")\n"
   ]
  },
  {
   "cell_type": "code",
   "execution_count": null,
   "id": "f4c5a2b6-8fbb-410b-8773-0bc9f17d9479",
   "metadata": {},
   "outputs": [],
   "source": []
  }
 ],
 "metadata": {
  "kernelspec": {
   "display_name": "Python 3 (ipykernel)",
   "language": "python",
   "name": "python3"
  },
  "language_info": {
   "codemirror_mode": {
    "name": "ipython",
    "version": 3
   },
   "file_extension": ".py",
   "mimetype": "text/x-python",
   "name": "python",
   "nbconvert_exporter": "python",
   "pygments_lexer": "ipython3",
   "version": "3.11.4"
  }
 },
 "nbformat": 4,
 "nbformat_minor": 5
}
